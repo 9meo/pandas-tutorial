{
 "cells": [
  {
   "cell_type": "code",
   "execution_count": 1,
   "metadata": {},
   "outputs": [],
   "source": [
    "import pandas as pd"
   ]
  },
  {
   "cell_type": "code",
   "execution_count": 2,
   "metadata": {},
   "outputs": [],
   "source": [
    "aapl = pd.read_table('AAPL_2017.csv',sep=',')"
   ]
  },
  {
   "cell_type": "code",
   "execution_count": 3,
   "metadata": {},
   "outputs": [
    {
     "data": {
      "text/html": [
       "<div>\n",
       "<style scoped>\n",
       "    .dataframe tbody tr th:only-of-type {\n",
       "        vertical-align: middle;\n",
       "    }\n",
       "\n",
       "    .dataframe tbody tr th {\n",
       "        vertical-align: top;\n",
       "    }\n",
       "\n",
       "    .dataframe thead th {\n",
       "        text-align: right;\n",
       "    }\n",
       "</style>\n",
       "<table border=\"1\" class=\"dataframe\">\n",
       "  <thead>\n",
       "    <tr style=\"text-align: right;\">\n",
       "      <th></th>\n",
       "      <th>Date</th>\n",
       "      <th>Open</th>\n",
       "      <th>High</th>\n",
       "      <th>Low</th>\n",
       "      <th>Close</th>\n",
       "      <th>Adj Close</th>\n",
       "      <th>Volume</th>\n",
       "    </tr>\n",
       "  </thead>\n",
       "  <tbody>\n",
       "    <tr>\n",
       "      <th>0</th>\n",
       "      <td>2017-01-03</td>\n",
       "      <td>115.800003</td>\n",
       "      <td>116.330002</td>\n",
       "      <td>114.760002</td>\n",
       "      <td>116.150002</td>\n",
       "      <td>113.847588</td>\n",
       "      <td>28781900</td>\n",
       "    </tr>\n",
       "    <tr>\n",
       "      <th>1</th>\n",
       "      <td>2017-01-04</td>\n",
       "      <td>115.849998</td>\n",
       "      <td>116.510002</td>\n",
       "      <td>115.750000</td>\n",
       "      <td>116.019997</td>\n",
       "      <td>113.720161</td>\n",
       "      <td>21118100</td>\n",
       "    </tr>\n",
       "    <tr>\n",
       "      <th>2</th>\n",
       "      <td>2017-01-05</td>\n",
       "      <td>115.919998</td>\n",
       "      <td>116.860001</td>\n",
       "      <td>115.809998</td>\n",
       "      <td>116.610001</td>\n",
       "      <td>114.298462</td>\n",
       "      <td>22193600</td>\n",
       "    </tr>\n",
       "    <tr>\n",
       "      <th>3</th>\n",
       "      <td>2017-01-06</td>\n",
       "      <td>116.779999</td>\n",
       "      <td>118.160004</td>\n",
       "      <td>116.470001</td>\n",
       "      <td>117.910004</td>\n",
       "      <td>115.572708</td>\n",
       "      <td>31751900</td>\n",
       "    </tr>\n",
       "    <tr>\n",
       "      <th>4</th>\n",
       "      <td>2017-01-09</td>\n",
       "      <td>117.949997</td>\n",
       "      <td>119.430000</td>\n",
       "      <td>117.940002</td>\n",
       "      <td>118.989998</td>\n",
       "      <td>116.631294</td>\n",
       "      <td>33561900</td>\n",
       "    </tr>\n",
       "  </tbody>\n",
       "</table>\n",
       "</div>"
      ],
      "text/plain": [
       "         Date        Open        High         Low       Close   Adj Close  \\\n",
       "0  2017-01-03  115.800003  116.330002  114.760002  116.150002  113.847588   \n",
       "1  2017-01-04  115.849998  116.510002  115.750000  116.019997  113.720161   \n",
       "2  2017-01-05  115.919998  116.860001  115.809998  116.610001  114.298462   \n",
       "3  2017-01-06  116.779999  118.160004  116.470001  117.910004  115.572708   \n",
       "4  2017-01-09  117.949997  119.430000  117.940002  118.989998  116.631294   \n",
       "\n",
       "     Volume  \n",
       "0  28781900  \n",
       "1  21118100  \n",
       "2  22193600  \n",
       "3  31751900  \n",
       "4  33561900  "
      ]
     },
     "execution_count": 3,
     "metadata": {},
     "output_type": "execute_result"
    }
   ],
   "source": [
    "aapl.head()"
   ]
  },
  {
   "cell_type": "markdown",
   "metadata": {},
   "source": [
    "1. Print the data from the last 4 weeks (see the .last method)\n",
    "2. Extract the adjusted close column (“Adj Close”),\n",
    "resample the full data to a monthly period. Do\n",
    "this 3 times, using the min, max, and mean of the\n",
    "resampling window."
   ]
  },
  {
   "cell_type": "code",
   "execution_count": null,
   "metadata": {},
   "outputs": [],
   "source": []
  }
 ],
 "metadata": {
  "kernelspec": {
   "display_name": "Python 3",
   "language": "python",
   "name": "python3"
  },
  "language_info": {
   "codemirror_mode": {
    "name": "ipython",
    "version": 3
   },
   "file_extension": ".py",
   "mimetype": "text/x-python",
   "name": "python",
   "nbconvert_exporter": "python",
   "pygments_lexer": "ipython3",
   "version": "3.5.5"
  }
 },
 "nbformat": 4,
 "nbformat_minor": 2
}
