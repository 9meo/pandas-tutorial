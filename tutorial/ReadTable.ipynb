{
 "cells": [
  {
   "cell_type": "code",
   "execution_count": 1,
   "metadata": {},
   "outputs": [],
   "source": [
    "import pandas as pd"
   ]
  },
  {
   "cell_type": "code",
   "execution_count": 3,
   "metadata": {},
   "outputs": [],
   "source": [
    "data = pd.read_table('data/Historical_data.csv', sep=',' , header=0 , na_values=['-'], parse_dates=True)"
   ]
  },
  {
   "cell_type": "code",
   "execution_count": 4,
   "metadata": {},
   "outputs": [
    {
     "data": {
      "text/html": [
       "<div>\n",
       "<style scoped>\n",
       "    .dataframe tbody tr th:only-of-type {\n",
       "        vertical-align: middle;\n",
       "    }\n",
       "\n",
       "    .dataframe tbody tr th {\n",
       "        vertical-align: top;\n",
       "    }\n",
       "\n",
       "    .dataframe thead th {\n",
       "        text-align: right;\n",
       "    }\n",
       "</style>\n",
       "<table border=\"1\" class=\"dataframe\">\n",
       "  <thead>\n",
       "    <tr style=\"text-align: right;\">\n",
       "      <th></th>\n",
       "      <th>date</th>\n",
       "      <th>GOOG</th>\n",
       "      <th>MSFT</th>\n",
       "      <th>PG</th>\n",
       "      <th>XOM</th>\n",
       "      <th>AAPL</th>\n",
       "    </tr>\n",
       "  </thead>\n",
       "  <tbody>\n",
       "    <tr>\n",
       "      <th>0</th>\n",
       "      <td>1/4/2017</td>\n",
       "      <td>905.960022</td>\n",
       "      <td>68.459999</td>\n",
       "      <td>87.330002</td>\n",
       "      <td>81.650002</td>\n",
       "      <td>143.649994</td>\n",
       "    </tr>\n",
       "    <tr>\n",
       "      <th>1</th>\n",
       "      <td>1/5/2017</td>\n",
       "      <td>964.859985</td>\n",
       "      <td>69.839996</td>\n",
       "      <td>88.089996</td>\n",
       "      <td>80.500000</td>\n",
       "      <td>152.759995</td>\n",
       "    </tr>\n",
       "    <tr>\n",
       "      <th>2</th>\n",
       "      <td>1/6/2017</td>\n",
       "      <td>908.729980</td>\n",
       "      <td>68.930000</td>\n",
       "      <td>87.150002</td>\n",
       "      <td>80.730003</td>\n",
       "      <td>144.020004</td>\n",
       "    </tr>\n",
       "    <tr>\n",
       "      <th>3</th>\n",
       "      <td>1/7/2017</td>\n",
       "      <td>930.500000</td>\n",
       "      <td>72.699997</td>\n",
       "      <td>90.820000</td>\n",
       "      <td>80.040001</td>\n",
       "      <td>148.729996</td>\n",
       "    </tr>\n",
       "    <tr>\n",
       "      <th>4</th>\n",
       "      <td>1/8/2017</td>\n",
       "      <td>939.330017</td>\n",
       "      <td>74.769997</td>\n",
       "      <td>92.269997</td>\n",
       "      <td>76.330002</td>\n",
       "      <td>164.000000</td>\n",
       "    </tr>\n",
       "  </tbody>\n",
       "</table>\n",
       "</div>"
      ],
      "text/plain": [
       "       date        GOOG       MSFT         PG        XOM        AAPL\n",
       "0  1/4/2017  905.960022  68.459999  87.330002  81.650002  143.649994\n",
       "1  1/5/2017  964.859985  69.839996  88.089996  80.500000  152.759995\n",
       "2  1/6/2017  908.729980  68.930000  87.150002  80.730003  144.020004\n",
       "3  1/7/2017  930.500000  72.699997  90.820000  80.040001  148.729996\n",
       "4  1/8/2017  939.330017  74.769997  92.269997  76.330002  164.000000"
      ]
     },
     "execution_count": 4,
     "metadata": {},
     "output_type": "execute_result"
    }
   ],
   "source": [
    "data.head()"
   ]
  },
  {
   "cell_type": "code",
   "execution_count": null,
   "metadata": {},
   "outputs": [],
   "source": []
  }
 ],
 "metadata": {
  "kernelspec": {
   "display_name": "Python 3",
   "language": "python",
   "name": "python3"
  },
  "language_info": {
   "codemirror_mode": {
    "name": "ipython",
    "version": 3
   },
   "file_extension": ".py",
   "mimetype": "text/x-python",
   "name": "python",
   "nbconvert_exporter": "python",
   "pygments_lexer": "ipython3",
   "version": "3.5.5"
  }
 },
 "nbformat": 4,
 "nbformat_minor": 2
}
