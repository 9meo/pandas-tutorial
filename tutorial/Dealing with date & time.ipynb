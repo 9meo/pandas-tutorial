{
 "cells": [
  {
   "cell_type": "markdown",
   "metadata": {},
   "source": [
    "# CREATING DATE/TIME INDEXES "
   ]
  },
  {
   "cell_type": "code",
   "execution_count": 1,
   "metadata": {},
   "outputs": [],
   "source": [
    "from pandas import date_range\n",
    "from pandas.tseries import offsets\n",
    "from pandas import Series\n",
    "from numpy.random import randn"
   ]
  },
  {
   "cell_type": "code",
   "execution_count": 2,
   "metadata": {},
   "outputs": [
    {
     "data": {
      "text/plain": [
       "DatetimeIndex(['2000-01-01', '2000-01-02', '2000-01-03', '2000-01-04'], dtype='datetime64[ns]', freq='D')"
      ]
     },
     "execution_count": 2,
     "metadata": {},
     "output_type": "execute_result"
    }
   ],
   "source": [
    "# The index can be a list of\n",
    "# dates+times locations that can be\n",
    "# automatically generated\n",
    "date_range('1/1/2000',periods=4)"
   ]
  },
  {
   "cell_type": "code",
   "execution_count": 3,
   "metadata": {},
   "outputs": [
    {
     "name": "stdout",
     "output_type": "stream",
     "text": [
      "DatetimeIndex(['2000-01-01 00:00:00', '2000-01-01 00:03:00',\n",
      "               '2000-01-01 00:06:00', '2000-01-01 00:09:00'],\n",
      "              dtype='datetime64[ns]', freq='3T')\n"
     ]
    }
   ],
   "source": [
    "# Specify frequency: us,ms,S,T,H,D,B,\n",
    "# W,M,3min, 2h20min, 2W,...\n",
    "r=date_range('1/1/2000',periods=72, freq='H')\n",
    "i=date_range('1/1/2000',periods=4,freq=offsets.YearEnd())\n",
    "i=date_range('1/1/2000',periods=4,freq='3min')\n",
    "print(i)"
   ]
  },
  {
   "cell_type": "code",
   "execution_count": 4,
   "metadata": {},
   "outputs": [
    {
     "name": "stdout",
     "output_type": "stream",
     "text": [
      "2000-01-01 00:00:00    0\n",
      "2000-01-01 00:03:00    1\n",
      "2000-01-01 00:06:00    2\n",
      "2000-01-01 00:09:00    3\n",
      "Freq: 3T, dtype: int64\n"
     ]
    }
   ],
   "source": [
    "ts=Series(range(4), index=i)\n",
    "print(ts)"
   ]
  },
  {
   "cell_type": "markdown",
   "metadata": {},
   "source": [
    "# UP-DOWN-SAMPLING"
   ]
  },
  {
   "cell_type": "code",
   "execution_count": 5,
   "metadata": {},
   "outputs": [
    {
     "data": {
      "text/plain": [
       "2000-01-01 00:00:00    0.0\n",
       "2000-01-01 00:01:00    NaN\n",
       "2000-01-01 00:02:00    NaN\n",
       "2000-01-01 00:03:00    1.0\n",
       "2000-01-01 00:04:00    NaN\n",
       "2000-01-01 00:05:00    NaN\n",
       "2000-01-01 00:06:00    2.0\n",
       "2000-01-01 00:07:00    NaN\n",
       "2000-01-01 00:08:00    NaN\n",
       "2000-01-01 00:09:00    3.0\n",
       "Freq: T, dtype: float64"
      ]
     },
     "execution_count": 5,
     "metadata": {},
     "output_type": "execute_result"
    }
   ],
   "source": [
    "ts.resample('T').mean()"
   ]
  },
  {
   "cell_type": "code",
   "execution_count": 6,
   "metadata": {},
   "outputs": [
    {
     "data": {
      "text/plain": [
       "2000-01-01   -0.238845\n",
       "2000-01-02    0.273158\n",
       "2000-01-03    0.009712\n",
       "Freq: D, dtype: float64"
      ]
     },
     "execution_count": 6,
     "metadata": {},
     "output_type": "execute_result"
    }
   ],
   "source": [
    "# Group hourly data into daily\n",
    "ts2 = Series(randn(72), index=r)\n",
    "ts2.resample('D',closed='left', label='left').mean()"
   ]
  },
  {
   "cell_type": "code",
   "execution_count": null,
   "metadata": {},
   "outputs": [],
   "source": []
  }
 ],
 "metadata": {
  "kernelspec": {
   "display_name": "Python 3",
   "language": "python",
   "name": "python3"
  },
  "language_info": {
   "codemirror_mode": {
    "name": "ipython",
    "version": 3
   },
   "file_extension": ".py",
   "mimetype": "text/x-python",
   "name": "python",
   "nbconvert_exporter": "python",
   "pygments_lexer": "ipython3",
   "version": "3.5.5"
  }
 },
 "nbformat": 4,
 "nbformat_minor": 2
}
